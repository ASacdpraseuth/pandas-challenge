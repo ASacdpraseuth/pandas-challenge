{
 "cells": [
  {
   "cell_type": "markdown",
   "metadata": {},
   "source": [
    "### Note\n",
    "* Instructions have been included for each segment. You do not have to follow them exactly, but they are included to help you think through the steps."
   ]
  },
  {
   "cell_type": "code",
   "execution_count": 1,
   "metadata": {},
   "outputs": [
    {
     "data": {
      "text/html": [
       "<div>\n",
       "<style scoped>\n",
       "    .dataframe tbody tr th:only-of-type {\n",
       "        vertical-align: middle;\n",
       "    }\n",
       "\n",
       "    .dataframe tbody tr th {\n",
       "        vertical-align: top;\n",
       "    }\n",
       "\n",
       "    .dataframe thead th {\n",
       "        text-align: right;\n",
       "    }\n",
       "</style>\n",
       "<table border=\"1\" class=\"dataframe\">\n",
       "  <thead>\n",
       "    <tr style=\"text-align: right;\">\n",
       "      <th></th>\n",
       "      <th>Purchase ID</th>\n",
       "      <th>SN</th>\n",
       "      <th>Age</th>\n",
       "      <th>Gender</th>\n",
       "      <th>Item ID</th>\n",
       "      <th>Item Name</th>\n",
       "      <th>Price</th>\n",
       "    </tr>\n",
       "  </thead>\n",
       "  <tbody>\n",
       "    <tr>\n",
       "      <th>0</th>\n",
       "      <td>0</td>\n",
       "      <td>Lisim78</td>\n",
       "      <td>20</td>\n",
       "      <td>Male</td>\n",
       "      <td>108</td>\n",
       "      <td>Extraction, Quickblade Of Trembling Hands</td>\n",
       "      <td>3.53</td>\n",
       "    </tr>\n",
       "    <tr>\n",
       "      <th>1</th>\n",
       "      <td>1</td>\n",
       "      <td>Lisovynya38</td>\n",
       "      <td>40</td>\n",
       "      <td>Male</td>\n",
       "      <td>143</td>\n",
       "      <td>Frenzied Scimitar</td>\n",
       "      <td>1.56</td>\n",
       "    </tr>\n",
       "    <tr>\n",
       "      <th>2</th>\n",
       "      <td>2</td>\n",
       "      <td>Ithergue48</td>\n",
       "      <td>24</td>\n",
       "      <td>Male</td>\n",
       "      <td>92</td>\n",
       "      <td>Final Critic</td>\n",
       "      <td>4.88</td>\n",
       "    </tr>\n",
       "    <tr>\n",
       "      <th>3</th>\n",
       "      <td>3</td>\n",
       "      <td>Chamassasya86</td>\n",
       "      <td>24</td>\n",
       "      <td>Male</td>\n",
       "      <td>100</td>\n",
       "      <td>Blindscythe</td>\n",
       "      <td>3.27</td>\n",
       "    </tr>\n",
       "    <tr>\n",
       "      <th>4</th>\n",
       "      <td>4</td>\n",
       "      <td>Iskosia90</td>\n",
       "      <td>23</td>\n",
       "      <td>Male</td>\n",
       "      <td>131</td>\n",
       "      <td>Fury</td>\n",
       "      <td>1.44</td>\n",
       "    </tr>\n",
       "  </tbody>\n",
       "</table>\n",
       "</div>"
      ],
      "text/plain": [
       "   Purchase ID             SN  Age Gender  Item ID  \\\n",
       "0            0        Lisim78   20   Male      108   \n",
       "1            1    Lisovynya38   40   Male      143   \n",
       "2            2     Ithergue48   24   Male       92   \n",
       "3            3  Chamassasya86   24   Male      100   \n",
       "4            4      Iskosia90   23   Male      131   \n",
       "\n",
       "                                   Item Name  Price  \n",
       "0  Extraction, Quickblade Of Trembling Hands   3.53  \n",
       "1                          Frenzied Scimitar   1.56  \n",
       "2                               Final Critic   4.88  \n",
       "3                                Blindscythe   3.27  \n",
       "4                                       Fury   1.44  "
      ]
     },
     "execution_count": 1,
     "metadata": {},
     "output_type": "execute_result"
    }
   ],
   "source": [
    "# Dependencies and Setup\n",
    "import pandas as pd\n",
    "\n",
    "# File to Load (Remember to Change These)\n",
    "file_to_load = \"Resources/purchase_data.csv\"\n",
    "\n",
    "# Read Purchasing File and store into Pandas data frame\n",
    "purchase_data = pd.read_csv(file_to_load)\n",
    "\n",
    "# quick look at the csv\n",
    "purchase_data.head()"
   ]
  },
  {
   "cell_type": "markdown",
   "metadata": {},
   "source": [
    "## Player Count"
   ]
  },
  {
   "cell_type": "markdown",
   "metadata": {},
   "source": [
    "* Display the total number of players\n"
   ]
  },
  {
   "cell_type": "code",
   "execution_count": 3,
   "metadata": {},
   "outputs": [
    {
     "data": {
      "text/plain": [
       "576"
      ]
     },
     "execution_count": 3,
     "metadata": {},
     "output_type": "execute_result"
    }
   ],
   "source": [
    "# use the length of the list using the 'SN' column\n",
    "player_count = len(purchase_data['SN'].unique())\n",
    "player_count"
   ]
  },
  {
   "cell_type": "markdown",
   "metadata": {},
   "source": [
    "## Purchasing Analysis (Total)"
   ]
  },
  {
   "cell_type": "markdown",
   "metadata": {},
   "source": [
    "* Run basic calculations to obtain number of unique items, average price, etc.\n",
    "\n",
    "\n",
    "* Create a summary data frame to hold the results\n",
    "\n",
    "\n",
    "* Optional: give the displayed data cleaner formatting\n",
    "\n",
    "\n",
    "* Display the summary data frame\n"
   ]
  },
  {
   "cell_type": "code",
   "execution_count": 7,
   "metadata": {
    "scrolled": true
   },
   "outputs": [
    {
     "data": {
      "text/html": [
       "<style  type=\"text/css\" >\n",
       "</style><table id=\"T_96324bc6_a63a_11eb_97e7_fc7774b3c521\" ><thead>    <tr>        <th class=\"col_heading level0 col0\" >Number of Unique Items</th>        <th class=\"col_heading level0 col1\" >Average Price</th>        <th class=\"col_heading level0 col2\" >Number of Purchases</th>        <th class=\"col_heading level0 col3\" >Total Revenue</th>    </tr></thead><tbody>\n",
       "                <tr>\n",
       "                                <td id=\"T_96324bc6_a63a_11eb_97e7_fc7774b3c521row0_col0\" class=\"data row0 col0\" >179</td>\n",
       "                        <td id=\"T_96324bc6_a63a_11eb_97e7_fc7774b3c521row0_col1\" class=\"data row0 col1\" >$3.05</td>\n",
       "                        <td id=\"T_96324bc6_a63a_11eb_97e7_fc7774b3c521row0_col2\" class=\"data row0 col2\" >780</td>\n",
       "                        <td id=\"T_96324bc6_a63a_11eb_97e7_fc7774b3c521row0_col3\" class=\"data row0 col3\" >$2,379.77</td>\n",
       "            </tr>\n",
       "    </tbody></table>"
      ],
      "text/plain": [
       "<pandas.io.formats.style.Styler at 0x24499b51e80>"
      ]
     },
     "execution_count": 7,
     "metadata": {},
     "output_type": "execute_result"
    }
   ],
   "source": [
    "# collect values for Unique Items, Average Price, Number of Purchases, and Total Revenue\n",
    "unique_items = len(purchase_data['Item ID'].unique())\n",
    "average_price = purchase_data['Price'].mean()\n",
    "number_of_purchases = len(purchase_data['Purchase ID'])\n",
    "total_rev = purchase_data['Price'].sum()\n",
    "\n",
    "# Combine output into a single dataframe\n",
    "df_analysis = pd.DataFrame({\n",
    "                            'Number of Unique Items':unique_items,\n",
    "                            'Average Price':average_price,\n",
    "                            'Number of Purchases':number_of_purchases,\n",
    "                            'Total Revenue':total_rev\n",
    "}, index=[0])\n",
    "\n",
    "# format the dataframe\n",
    "format_dict = {'Number of Unique Items':'{0:,.0f}', 'Average Price': '${0:,.2f}', 'Number of Purchases': '{0:,.0f}', 'Total Revenue':'${0:,.2f}'}\n",
    "df_analysis.style.format(format_dict).hide_index()"
   ]
  },
  {
   "cell_type": "markdown",
   "metadata": {},
   "source": [
    "## Gender Demographics"
   ]
  },
  {
   "cell_type": "markdown",
   "metadata": {},
   "source": [
    "* Percentage and Count of Male Players\n",
    "\n",
    "\n",
    "* Percentage and Count of Female Players\n",
    "\n",
    "\n",
    "* Percentage and Count of Other / Non-Disclosed\n",
    "\n",
    "\n"
   ]
  },
  {
   "cell_type": "code",
   "execution_count": 15,
   "metadata": {},
   "outputs": [
    {
     "data": {
      "text/html": [
       "<style  type=\"text/css\" >\n",
       "</style><table id=\"T_76084b02_a63c_11eb_8299_fc7774b3c521\" ><thead>    <tr>        <th class=\"blank level0\" ></th>        <th class=\"col_heading level0 col0\" >Total Count</th>        <th class=\"col_heading level0 col1\" >Percentage of Players</th>    </tr>    <tr>        <th class=\"index_name level0\" >Gender</th>        <th class=\"blank\" ></th>        <th class=\"blank\" ></th>    </tr></thead><tbody>\n",
       "                <tr>\n",
       "                        <th id=\"T_76084b02_a63c_11eb_8299_fc7774b3c521level0_row0\" class=\"row_heading level0 row0\" >Female</th>\n",
       "                        <td id=\"T_76084b02_a63c_11eb_8299_fc7774b3c521row0_col0\" class=\"data row0 col0\" >81</td>\n",
       "                        <td id=\"T_76084b02_a63c_11eb_8299_fc7774b3c521row0_col1\" class=\"data row0 col1\" >14.06%</td>\n",
       "            </tr>\n",
       "            <tr>\n",
       "                        <th id=\"T_76084b02_a63c_11eb_8299_fc7774b3c521level0_row1\" class=\"row_heading level0 row1\" >Male</th>\n",
       "                        <td id=\"T_76084b02_a63c_11eb_8299_fc7774b3c521row1_col0\" class=\"data row1 col0\" >484</td>\n",
       "                        <td id=\"T_76084b02_a63c_11eb_8299_fc7774b3c521row1_col1\" class=\"data row1 col1\" >84.03%</td>\n",
       "            </tr>\n",
       "            <tr>\n",
       "                        <th id=\"T_76084b02_a63c_11eb_8299_fc7774b3c521level0_row2\" class=\"row_heading level0 row2\" >Other / Non-Disclosed</th>\n",
       "                        <td id=\"T_76084b02_a63c_11eb_8299_fc7774b3c521row2_col0\" class=\"data row2 col0\" >11</td>\n",
       "                        <td id=\"T_76084b02_a63c_11eb_8299_fc7774b3c521row2_col1\" class=\"data row2 col1\" >1.91%</td>\n",
       "            </tr>\n",
       "    </tbody></table>"
      ],
      "text/plain": [
       "<pandas.io.formats.style.Styler at 0x2449b62da58>"
      ]
     },
     "execution_count": 15,
     "metadata": {},
     "output_type": "execute_result"
    }
   ],
   "source": [
    "# group purchase data by gender\n",
    "gender = purchase_data.groupby('Gender')\n",
    "\n",
    "# count total number of players by gender\n",
    "gender_count = gender.nunique()['SN']\n",
    "\n",
    "# calculate total by gender in percentages\n",
    "gender_percents = (gender_count / player_count)\n",
    "\n",
    "# make a dtraframe with outputs\n",
    "df_gendergraphics = pd.DataFrame({\n",
    "                                'Total Count':gender_count,\n",
    "                                'Percentage of Players':gender_percents\n",
    "})\n",
    "\n",
    "# format dataframe\n",
    "(df_gendergraphics.style.format({'Percentage of Players':'{:.2%}'}))"
   ]
  },
  {
   "cell_type": "markdown",
   "metadata": {},
   "source": [
    "\n",
    "## Purchasing Analysis (Gender)"
   ]
  },
  {
   "cell_type": "markdown",
   "metadata": {},
   "source": [
    "* Run basic calculations to obtain purchase count, avg. purchase price, avg. purchase total per person etc. by gender\n",
    "\n",
    "\n",
    "\n",
    "\n",
    "* Create a summary data frame to hold the results\n",
    "\n",
    "\n",
    "* Optional: give the displayed data cleaner formatting\n",
    "\n",
    "\n",
    "* Display the summary data frame"
   ]
  },
  {
   "cell_type": "code",
   "execution_count": 16,
   "metadata": {},
   "outputs": [
    {
     "data": {
      "text/html": [
       "<style  type=\"text/css\" >\n",
       "</style><table id=\"T_028d2958_a63e_11eb_ba46_fc7774b3c521\" ><thead>    <tr>        <th class=\"blank level0\" ></th>        <th class=\"col_heading level0 col0\" >Purchase Count</th>        <th class=\"col_heading level0 col1\" >Average Purchase Price</th>        <th class=\"col_heading level0 col2\" >Total Purchase Value</th>        <th class=\"col_heading level0 col3\" >Average Total Purchase per Person</th>    </tr>    <tr>        <th class=\"index_name level0\" >Gender</th>        <th class=\"blank\" ></th>        <th class=\"blank\" ></th>        <th class=\"blank\" ></th>        <th class=\"blank\" ></th>    </tr></thead><tbody>\n",
       "                <tr>\n",
       "                        <th id=\"T_028d2958_a63e_11eb_ba46_fc7774b3c521level0_row0\" class=\"row_heading level0 row0\" >Female</th>\n",
       "                        <td id=\"T_028d2958_a63e_11eb_ba46_fc7774b3c521row0_col0\" class=\"data row0 col0\" >113</td>\n",
       "                        <td id=\"T_028d2958_a63e_11eb_ba46_fc7774b3c521row0_col1\" class=\"data row0 col1\" >$3.20</td>\n",
       "                        <td id=\"T_028d2958_a63e_11eb_ba46_fc7774b3c521row0_col2\" class=\"data row0 col2\" >$361.94</td>\n",
       "                        <td id=\"T_028d2958_a63e_11eb_ba46_fc7774b3c521row0_col3\" class=\"data row0 col3\" >$4.47</td>\n",
       "            </tr>\n",
       "            <tr>\n",
       "                        <th id=\"T_028d2958_a63e_11eb_ba46_fc7774b3c521level0_row1\" class=\"row_heading level0 row1\" >Male</th>\n",
       "                        <td id=\"T_028d2958_a63e_11eb_ba46_fc7774b3c521row1_col0\" class=\"data row1 col0\" >652</td>\n",
       "                        <td id=\"T_028d2958_a63e_11eb_ba46_fc7774b3c521row1_col1\" class=\"data row1 col1\" >$3.02</td>\n",
       "                        <td id=\"T_028d2958_a63e_11eb_ba46_fc7774b3c521row1_col2\" class=\"data row1 col2\" >$1,967.64</td>\n",
       "                        <td id=\"T_028d2958_a63e_11eb_ba46_fc7774b3c521row1_col3\" class=\"data row1 col3\" >$4.07</td>\n",
       "            </tr>\n",
       "            <tr>\n",
       "                        <th id=\"T_028d2958_a63e_11eb_ba46_fc7774b3c521level0_row2\" class=\"row_heading level0 row2\" >Other / Non-Disclosed</th>\n",
       "                        <td id=\"T_028d2958_a63e_11eb_ba46_fc7774b3c521row2_col0\" class=\"data row2 col0\" >15</td>\n",
       "                        <td id=\"T_028d2958_a63e_11eb_ba46_fc7774b3c521row2_col1\" class=\"data row2 col1\" >$3.35</td>\n",
       "                        <td id=\"T_028d2958_a63e_11eb_ba46_fc7774b3c521row2_col2\" class=\"data row2 col2\" >$50.19</td>\n",
       "                        <td id=\"T_028d2958_a63e_11eb_ba46_fc7774b3c521row2_col3\" class=\"data row2 col3\" >$4.56</td>\n",
       "            </tr>\n",
       "    </tbody></table>"
      ],
      "text/plain": [
       "<pandas.io.formats.style.Styler at 0x2449b63b470>"
      ]
     },
     "execution_count": 16,
     "metadata": {},
     "output_type": "execute_result"
    }
   ],
   "source": [
    "# count purchases by gender\n",
    "gender_purchase = gender['Purchase ID'].count()\n",
    "\n",
    "# find average purchases\n",
    "avg_price = gender['Price'].mean()\n",
    "\n",
    "# find total purchases\n",
    "purchase_total = gender['Price'].sum()\n",
    "\n",
    "# find average purchase per person \n",
    "avg_per_person = (purchase_total / gender_count)\n",
    "\n",
    "# create datafram with outputs\n",
    "df_purchanalysis = pd.DataFrame({\n",
    "                                    'Purchase Count':gender_purchase,\n",
    "                                    'Average Purchase Price':avg_price,\n",
    "                                    'Total Purchase Value':purchase_total,\n",
    "                                    'Average Total Purchase per Person':avg_per_person\n",
    "})\n",
    "\n",
    "#format dataframe\n",
    "df_purchanalysis.style.format({\n",
    "                                'Average Purchase Price':'${0:,.2f}',\n",
    "                                'Total Purchase Value':'${0:,.2f}',\n",
    "                                'Average Total Purchase per Person':'${0:,.2f}'\n",
    "})"
   ]
  },
  {
   "cell_type": "markdown",
   "metadata": {},
   "source": [
    "## Age Demographics"
   ]
  },
  {
   "cell_type": "markdown",
   "metadata": {},
   "source": [
    "* Establish bins for ages\n",
    "\n",
    "\n",
    "* Categorize the existing players using the age bins. Hint: use pd.cut()\n",
    "\n",
    "\n",
    "* Calculate the numbers and percentages by age group\n",
    "\n",
    "\n",
    "* Create a summary data frame to hold the results\n",
    "\n",
    "\n",
    "* Optional: round the percentage column to two decimal points\n",
    "\n",
    "\n",
    "* Display Age Demographics Table\n"
   ]
  },
  {
   "cell_type": "code",
   "execution_count": 22,
   "metadata": {},
   "outputs": [
    {
     "data": {
      "text/html": [
       "<style  type=\"text/css\" >\n",
       "</style><table id=\"T_14f00ab0_a640_11eb_989f_fc7774b3c521\" ><thead>    <tr>        <th class=\"blank level0\" ></th>        <th class=\"col_heading level0 col0\" >Total Count</th>        <th class=\"col_heading level0 col1\" >Percentage of Players</th>    </tr>    <tr>        <th class=\"index_name level0\" >Age Group</th>        <th class=\"blank\" ></th>        <th class=\"blank\" ></th>    </tr></thead><tbody>\n",
       "                <tr>\n",
       "                        <th id=\"T_14f00ab0_a640_11eb_989f_fc7774b3c521level0_row0\" class=\"row_heading level0 row0\" ><10</th>\n",
       "                        <td id=\"T_14f00ab0_a640_11eb_989f_fc7774b3c521row0_col0\" class=\"data row0 col0\" >17</td>\n",
       "                        <td id=\"T_14f00ab0_a640_11eb_989f_fc7774b3c521row0_col1\" class=\"data row0 col1\" >2.95%</td>\n",
       "            </tr>\n",
       "            <tr>\n",
       "                        <th id=\"T_14f00ab0_a640_11eb_989f_fc7774b3c521level0_row1\" class=\"row_heading level0 row1\" >10-14</th>\n",
       "                        <td id=\"T_14f00ab0_a640_11eb_989f_fc7774b3c521row1_col0\" class=\"data row1 col0\" >22</td>\n",
       "                        <td id=\"T_14f00ab0_a640_11eb_989f_fc7774b3c521row1_col1\" class=\"data row1 col1\" >3.82%</td>\n",
       "            </tr>\n",
       "            <tr>\n",
       "                        <th id=\"T_14f00ab0_a640_11eb_989f_fc7774b3c521level0_row2\" class=\"row_heading level0 row2\" >15-19</th>\n",
       "                        <td id=\"T_14f00ab0_a640_11eb_989f_fc7774b3c521row2_col0\" class=\"data row2 col0\" >107</td>\n",
       "                        <td id=\"T_14f00ab0_a640_11eb_989f_fc7774b3c521row2_col1\" class=\"data row2 col1\" >18.58%</td>\n",
       "            </tr>\n",
       "            <tr>\n",
       "                        <th id=\"T_14f00ab0_a640_11eb_989f_fc7774b3c521level0_row3\" class=\"row_heading level0 row3\" >20-24</th>\n",
       "                        <td id=\"T_14f00ab0_a640_11eb_989f_fc7774b3c521row3_col0\" class=\"data row3 col0\" >258</td>\n",
       "                        <td id=\"T_14f00ab0_a640_11eb_989f_fc7774b3c521row3_col1\" class=\"data row3 col1\" >44.79%</td>\n",
       "            </tr>\n",
       "            <tr>\n",
       "                        <th id=\"T_14f00ab0_a640_11eb_989f_fc7774b3c521level0_row4\" class=\"row_heading level0 row4\" >25-29</th>\n",
       "                        <td id=\"T_14f00ab0_a640_11eb_989f_fc7774b3c521row4_col0\" class=\"data row4 col0\" >77</td>\n",
       "                        <td id=\"T_14f00ab0_a640_11eb_989f_fc7774b3c521row4_col1\" class=\"data row4 col1\" >13.37%</td>\n",
       "            </tr>\n",
       "            <tr>\n",
       "                        <th id=\"T_14f00ab0_a640_11eb_989f_fc7774b3c521level0_row5\" class=\"row_heading level0 row5\" >30-34</th>\n",
       "                        <td id=\"T_14f00ab0_a640_11eb_989f_fc7774b3c521row5_col0\" class=\"data row5 col0\" >52</td>\n",
       "                        <td id=\"T_14f00ab0_a640_11eb_989f_fc7774b3c521row5_col1\" class=\"data row5 col1\" >9.03%</td>\n",
       "            </tr>\n",
       "            <tr>\n",
       "                        <th id=\"T_14f00ab0_a640_11eb_989f_fc7774b3c521level0_row6\" class=\"row_heading level0 row6\" >35-39</th>\n",
       "                        <td id=\"T_14f00ab0_a640_11eb_989f_fc7774b3c521row6_col0\" class=\"data row6 col0\" >31</td>\n",
       "                        <td id=\"T_14f00ab0_a640_11eb_989f_fc7774b3c521row6_col1\" class=\"data row6 col1\" >5.38%</td>\n",
       "            </tr>\n",
       "            <tr>\n",
       "                        <th id=\"T_14f00ab0_a640_11eb_989f_fc7774b3c521level0_row7\" class=\"row_heading level0 row7\" >40+</th>\n",
       "                        <td id=\"T_14f00ab0_a640_11eb_989f_fc7774b3c521row7_col0\" class=\"data row7 col0\" >12</td>\n",
       "                        <td id=\"T_14f00ab0_a640_11eb_989f_fc7774b3c521row7_col1\" class=\"data row7 col1\" >2.08%</td>\n",
       "            </tr>\n",
       "    </tbody></table>"
      ],
      "text/plain": [
       "<pandas.io.formats.style.Styler at 0x2449b659d30>"
      ]
     },
     "execution_count": 22,
     "metadata": {},
     "output_type": "execute_result"
    }
   ],
   "source": [
    "# establish bins for ages\n",
    "ages = [0, 9, 14, 19, 24, 29, 34, 39, 9999999999]\n",
    "age_groups = ['<10','10-14','15-19','20-24','25-29','30-34','35-39','40+']\n",
    "\n",
    "# sort values into bins\n",
    "purchase_data['Age Group'] = pd.cut(purchase_data['Age'], ages, labels=age_groups)\n",
    "\n",
    "# create new dataframe to help calculate new values\n",
    "df_ages = purchase_data.groupby('Age Group')\n",
    "\n",
    "# count total by age group\n",
    "age_count = df_ages['SN'].nunique()\n",
    "\n",
    "# get percentages\n",
    "age_percents = (age_count / player_count)\n",
    "\n",
    "# create new datafram to display outputs\n",
    "age_demographics = pd.DataFrame({\n",
    "                                    'Total Count':age_count,\n",
    "                                    'Percentage of Players':age_percents\n",
    "})\n",
    "\n",
    "# format dataframe\n",
    "age_demographics.style.format({'Percentage of Players':'{:,.2%}'})"
   ]
  },
  {
   "cell_type": "markdown",
   "metadata": {},
   "source": [
    "## Purchasing Analysis (Age)"
   ]
  },
  {
   "cell_type": "markdown",
   "metadata": {},
   "source": [
    "* Bin the purchase_data data frame by age\n",
    "\n",
    "\n",
    "* Run basic calculations to obtain purchase count, avg. purchase price, avg. purchase total per person etc. in the table below\n",
    "\n",
    "\n",
    "* Create a summary data frame to hold the results\n",
    "\n",
    "\n",
    "* Optional: give the displayed data cleaner formatting\n",
    "\n",
    "\n",
    "* Display the summary data frame"
   ]
  },
  {
   "cell_type": "code",
   "execution_count": 23,
   "metadata": {},
   "outputs": [
    {
     "data": {
      "text/html": [
       "<style  type=\"text/css\" >\n",
       "</style><table id=\"T_1a32b692_a641_11eb_87ce_fc7774b3c521\" ><thead>    <tr>        <th class=\"blank level0\" ></th>        <th class=\"col_heading level0 col0\" >Purchase Count</th>        <th class=\"col_heading level0 col1\" >Average Purchase Price</th>        <th class=\"col_heading level0 col2\" >Total Purchase Value</th>        <th class=\"col_heading level0 col3\" >Average Total Purchase per Person</th>    </tr>    <tr>        <th class=\"index_name level0\" >Age Group</th>        <th class=\"blank\" ></th>        <th class=\"blank\" ></th>        <th class=\"blank\" ></th>        <th class=\"blank\" ></th>    </tr></thead><tbody>\n",
       "                <tr>\n",
       "                        <th id=\"T_1a32b692_a641_11eb_87ce_fc7774b3c521level0_row0\" class=\"row_heading level0 row0\" ><10</th>\n",
       "                        <td id=\"T_1a32b692_a641_11eb_87ce_fc7774b3c521row0_col0\" class=\"data row0 col0\" >23</td>\n",
       "                        <td id=\"T_1a32b692_a641_11eb_87ce_fc7774b3c521row0_col1\" class=\"data row0 col1\" >$3.35</td>\n",
       "                        <td id=\"T_1a32b692_a641_11eb_87ce_fc7774b3c521row0_col2\" class=\"data row0 col2\" >$77.13</td>\n",
       "                        <td id=\"T_1a32b692_a641_11eb_87ce_fc7774b3c521row0_col3\" class=\"data row0 col3\" >$4.54</td>\n",
       "            </tr>\n",
       "            <tr>\n",
       "                        <th id=\"T_1a32b692_a641_11eb_87ce_fc7774b3c521level0_row1\" class=\"row_heading level0 row1\" >10-14</th>\n",
       "                        <td id=\"T_1a32b692_a641_11eb_87ce_fc7774b3c521row1_col0\" class=\"data row1 col0\" >28</td>\n",
       "                        <td id=\"T_1a32b692_a641_11eb_87ce_fc7774b3c521row1_col1\" class=\"data row1 col1\" >$2.96</td>\n",
       "                        <td id=\"T_1a32b692_a641_11eb_87ce_fc7774b3c521row1_col2\" class=\"data row1 col2\" >$82.78</td>\n",
       "                        <td id=\"T_1a32b692_a641_11eb_87ce_fc7774b3c521row1_col3\" class=\"data row1 col3\" >$3.76</td>\n",
       "            </tr>\n",
       "            <tr>\n",
       "                        <th id=\"T_1a32b692_a641_11eb_87ce_fc7774b3c521level0_row2\" class=\"row_heading level0 row2\" >15-19</th>\n",
       "                        <td id=\"T_1a32b692_a641_11eb_87ce_fc7774b3c521row2_col0\" class=\"data row2 col0\" >136</td>\n",
       "                        <td id=\"T_1a32b692_a641_11eb_87ce_fc7774b3c521row2_col1\" class=\"data row2 col1\" >$3.04</td>\n",
       "                        <td id=\"T_1a32b692_a641_11eb_87ce_fc7774b3c521row2_col2\" class=\"data row2 col2\" >$412.89</td>\n",
       "                        <td id=\"T_1a32b692_a641_11eb_87ce_fc7774b3c521row2_col3\" class=\"data row2 col3\" >$3.86</td>\n",
       "            </tr>\n",
       "            <tr>\n",
       "                        <th id=\"T_1a32b692_a641_11eb_87ce_fc7774b3c521level0_row3\" class=\"row_heading level0 row3\" >20-24</th>\n",
       "                        <td id=\"T_1a32b692_a641_11eb_87ce_fc7774b3c521row3_col0\" class=\"data row3 col0\" >365</td>\n",
       "                        <td id=\"T_1a32b692_a641_11eb_87ce_fc7774b3c521row3_col1\" class=\"data row3 col1\" >$3.05</td>\n",
       "                        <td id=\"T_1a32b692_a641_11eb_87ce_fc7774b3c521row3_col2\" class=\"data row3 col2\" >$1,114.06</td>\n",
       "                        <td id=\"T_1a32b692_a641_11eb_87ce_fc7774b3c521row3_col3\" class=\"data row3 col3\" >$4.32</td>\n",
       "            </tr>\n",
       "            <tr>\n",
       "                        <th id=\"T_1a32b692_a641_11eb_87ce_fc7774b3c521level0_row4\" class=\"row_heading level0 row4\" >25-29</th>\n",
       "                        <td id=\"T_1a32b692_a641_11eb_87ce_fc7774b3c521row4_col0\" class=\"data row4 col0\" >101</td>\n",
       "                        <td id=\"T_1a32b692_a641_11eb_87ce_fc7774b3c521row4_col1\" class=\"data row4 col1\" >$2.90</td>\n",
       "                        <td id=\"T_1a32b692_a641_11eb_87ce_fc7774b3c521row4_col2\" class=\"data row4 col2\" >$293.00</td>\n",
       "                        <td id=\"T_1a32b692_a641_11eb_87ce_fc7774b3c521row4_col3\" class=\"data row4 col3\" >$3.81</td>\n",
       "            </tr>\n",
       "            <tr>\n",
       "                        <th id=\"T_1a32b692_a641_11eb_87ce_fc7774b3c521level0_row5\" class=\"row_heading level0 row5\" >30-34</th>\n",
       "                        <td id=\"T_1a32b692_a641_11eb_87ce_fc7774b3c521row5_col0\" class=\"data row5 col0\" >73</td>\n",
       "                        <td id=\"T_1a32b692_a641_11eb_87ce_fc7774b3c521row5_col1\" class=\"data row5 col1\" >$2.93</td>\n",
       "                        <td id=\"T_1a32b692_a641_11eb_87ce_fc7774b3c521row5_col2\" class=\"data row5 col2\" >$214.00</td>\n",
       "                        <td id=\"T_1a32b692_a641_11eb_87ce_fc7774b3c521row5_col3\" class=\"data row5 col3\" >$4.12</td>\n",
       "            </tr>\n",
       "            <tr>\n",
       "                        <th id=\"T_1a32b692_a641_11eb_87ce_fc7774b3c521level0_row6\" class=\"row_heading level0 row6\" >35-39</th>\n",
       "                        <td id=\"T_1a32b692_a641_11eb_87ce_fc7774b3c521row6_col0\" class=\"data row6 col0\" >41</td>\n",
       "                        <td id=\"T_1a32b692_a641_11eb_87ce_fc7774b3c521row6_col1\" class=\"data row6 col1\" >$3.60</td>\n",
       "                        <td id=\"T_1a32b692_a641_11eb_87ce_fc7774b3c521row6_col2\" class=\"data row6 col2\" >$147.67</td>\n",
       "                        <td id=\"T_1a32b692_a641_11eb_87ce_fc7774b3c521row6_col3\" class=\"data row6 col3\" >$4.76</td>\n",
       "            </tr>\n",
       "            <tr>\n",
       "                        <th id=\"T_1a32b692_a641_11eb_87ce_fc7774b3c521level0_row7\" class=\"row_heading level0 row7\" >40+</th>\n",
       "                        <td id=\"T_1a32b692_a641_11eb_87ce_fc7774b3c521row7_col0\" class=\"data row7 col0\" >13</td>\n",
       "                        <td id=\"T_1a32b692_a641_11eb_87ce_fc7774b3c521row7_col1\" class=\"data row7 col1\" >$2.94</td>\n",
       "                        <td id=\"T_1a32b692_a641_11eb_87ce_fc7774b3c521row7_col2\" class=\"data row7 col2\" >$38.24</td>\n",
       "                        <td id=\"T_1a32b692_a641_11eb_87ce_fc7774b3c521row7_col3\" class=\"data row7 col3\" >$3.19</td>\n",
       "            </tr>\n",
       "    </tbody></table>"
      ],
      "text/plain": [
       "<pandas.io.formats.style.Styler at 0x2449b670198>"
      ]
     },
     "execution_count": 23,
     "metadata": {},
     "output_type": "execute_result"
    }
   ],
   "source": [
    "# do the same thing as purchase analysis by gender but now by age\n",
    "# count purchases by age\n",
    "age_purchase = df_ages['Purchase ID'].count()\n",
    "\n",
    "# get the average purchase price by age\n",
    "age_avg_price = df_ages['Price'].mean()\n",
    "\n",
    "# get total value by age\n",
    "age_purchase_total = df_ages['Price'].sum()\n",
    "\n",
    "# get average purchase per person by age\n",
    "age_avg_per_person = (age_purchase_total / age_count)\n",
    "\n",
    "# create dataframe\n",
    "df_age_purchanalysis = pd.DataFrame({\n",
    "                                    'Purchase Count':age_purchase,\n",
    "                                    'Average Purchase Price':age_avg_price,\n",
    "                                    'Total Purchase Value':age_purchase_total,\n",
    "                                    'Average Total Purchase per Person':age_avg_per_person\n",
    "})\n",
    "\n",
    "#format dataframe\n",
    "df_age_purchanalysis.style.format({\n",
    "                                'Average Purchase Price':'${0:,.2f}',\n",
    "                                'Total Purchase Value':'${0:,.2f}',\n",
    "                                'Average Total Purchase per Person':'${0:,.2f}'\n",
    "})"
   ]
  },
  {
   "cell_type": "markdown",
   "metadata": {},
   "source": [
    "## Top Spenders"
   ]
  },
  {
   "cell_type": "markdown",
   "metadata": {},
   "source": [
    "* Run basic calculations to obtain the results in the table below\n",
    "\n",
    "\n",
    "* Create a summary data frame to hold the results\n",
    "\n",
    "\n",
    "* Sort the total purchase value column in descending order\n",
    "\n",
    "\n",
    "* Optional: give the displayed data cleaner formatting\n",
    "\n",
    "\n",
    "* Display a preview of the summary data frame\n",
    "\n"
   ]
  },
  {
   "cell_type": "code",
   "execution_count": 28,
   "metadata": {},
   "outputs": [
    {
     "data": {
      "text/html": [
       "<style  type=\"text/css\" >\n",
       "</style><table id=\"T_3b77485a_a644_11eb_a213_fc7774b3c521\" ><thead>    <tr>        <th class=\"blank level0\" ></th>        <th class=\"col_heading level0 col0\" >Purchase Count</th>        <th class=\"col_heading level0 col1\" >Average Purchase Price</th>        <th class=\"col_heading level0 col2\" >Total Purchase Value</th>    </tr>    <tr>        <th class=\"index_name level0\" >SN</th>        <th class=\"blank\" ></th>        <th class=\"blank\" ></th>        <th class=\"blank\" ></th>    </tr></thead><tbody>\n",
       "                <tr>\n",
       "                        <th id=\"T_3b77485a_a644_11eb_a213_fc7774b3c521level0_row0\" class=\"row_heading level0 row0\" >Lisosia93</th>\n",
       "                        <td id=\"T_3b77485a_a644_11eb_a213_fc7774b3c521row0_col0\" class=\"data row0 col0\" >5</td>\n",
       "                        <td id=\"T_3b77485a_a644_11eb_a213_fc7774b3c521row0_col1\" class=\"data row0 col1\" >$3.79</td>\n",
       "                        <td id=\"T_3b77485a_a644_11eb_a213_fc7774b3c521row0_col2\" class=\"data row0 col2\" >$18.96</td>\n",
       "            </tr>\n",
       "            <tr>\n",
       "                        <th id=\"T_3b77485a_a644_11eb_a213_fc7774b3c521level0_row1\" class=\"row_heading level0 row1\" >Idastidru52</th>\n",
       "                        <td id=\"T_3b77485a_a644_11eb_a213_fc7774b3c521row1_col0\" class=\"data row1 col0\" >4</td>\n",
       "                        <td id=\"T_3b77485a_a644_11eb_a213_fc7774b3c521row1_col1\" class=\"data row1 col1\" >$3.86</td>\n",
       "                        <td id=\"T_3b77485a_a644_11eb_a213_fc7774b3c521row1_col2\" class=\"data row1 col2\" >$15.45</td>\n",
       "            </tr>\n",
       "            <tr>\n",
       "                        <th id=\"T_3b77485a_a644_11eb_a213_fc7774b3c521level0_row2\" class=\"row_heading level0 row2\" >Chamjask73</th>\n",
       "                        <td id=\"T_3b77485a_a644_11eb_a213_fc7774b3c521row2_col0\" class=\"data row2 col0\" >3</td>\n",
       "                        <td id=\"T_3b77485a_a644_11eb_a213_fc7774b3c521row2_col1\" class=\"data row2 col1\" >$4.61</td>\n",
       "                        <td id=\"T_3b77485a_a644_11eb_a213_fc7774b3c521row2_col2\" class=\"data row2 col2\" >$13.83</td>\n",
       "            </tr>\n",
       "            <tr>\n",
       "                        <th id=\"T_3b77485a_a644_11eb_a213_fc7774b3c521level0_row3\" class=\"row_heading level0 row3\" >Iral74</th>\n",
       "                        <td id=\"T_3b77485a_a644_11eb_a213_fc7774b3c521row3_col0\" class=\"data row3 col0\" >4</td>\n",
       "                        <td id=\"T_3b77485a_a644_11eb_a213_fc7774b3c521row3_col1\" class=\"data row3 col1\" >$3.40</td>\n",
       "                        <td id=\"T_3b77485a_a644_11eb_a213_fc7774b3c521row3_col2\" class=\"data row3 col2\" >$13.62</td>\n",
       "            </tr>\n",
       "            <tr>\n",
       "                        <th id=\"T_3b77485a_a644_11eb_a213_fc7774b3c521level0_row4\" class=\"row_heading level0 row4\" >Iskadarya95</th>\n",
       "                        <td id=\"T_3b77485a_a644_11eb_a213_fc7774b3c521row4_col0\" class=\"data row4 col0\" >3</td>\n",
       "                        <td id=\"T_3b77485a_a644_11eb_a213_fc7774b3c521row4_col1\" class=\"data row4 col1\" >$4.37</td>\n",
       "                        <td id=\"T_3b77485a_a644_11eb_a213_fc7774b3c521row4_col2\" class=\"data row4 col2\" >$13.10</td>\n",
       "            </tr>\n",
       "    </tbody></table>"
      ],
      "text/plain": [
       "<pandas.io.formats.style.Styler at 0x2449b69fac8>"
      ]
     },
     "execution_count": 28,
     "metadata": {},
     "output_type": "execute_result"
    }
   ],
   "source": [
    "# get purchase data by person\n",
    "spenders = purchase_data.groupby('SN')\n",
    "\n",
    "# get total purchases by person\n",
    "spender_purchase_count = spenders['Purchase ID'].count()\n",
    "\n",
    "# get average purchase by person\n",
    "spender_avg_purchase_price = spenders['Price'].mean()\n",
    "\n",
    "# get total rev per person\n",
    "spender_purchase_total = spenders['Price'].sum()\n",
    "\n",
    "# create datafdrame with outputs\n",
    "top_spenders = pd.DataFrame({\n",
    "                                'Purchase Count':spender_purchase_count,\n",
    "                                'Average Purchase Price':spender_avg_purchase_price,\n",
    "                                'Total Purchase Value':spender_purchase_total\n",
    "})\n",
    "\n",
    "# format and sort descending to get top purchasers\n",
    "top_five = top_spenders.sort_values(['Total Purchase Value'], ascending=False).head().style.format({\n",
    "                                'Average Purchase Price':'${0:,.2f}',\n",
    "                                'Total Purchase Value':'${0:,.2f}'\n",
    "})\n",
    "\n",
    "top_five"
   ]
  },
  {
   "cell_type": "markdown",
   "metadata": {},
   "source": [
    "## Most Popular Items"
   ]
  },
  {
   "cell_type": "markdown",
   "metadata": {},
   "source": [
    "* Retrieve the Item ID, Item Name, and Item Price columns\n",
    "\n",
    "\n",
    "* Group by Item ID and Item Name. Perform calculations to obtain purchase count, average item price, and total purchase value\n",
    "\n",
    "\n",
    "* Create a summary data frame to hold the results\n",
    "\n",
    "\n",
    "* Sort the purchase count column in descending order\n",
    "\n",
    "\n",
    "* Optional: give the displayed data cleaner formatting\n",
    "\n",
    "\n",
    "* Display a preview of the summary data frame\n",
    "\n"
   ]
  },
  {
   "cell_type": "code",
   "execution_count": 31,
   "metadata": {},
   "outputs": [
    {
     "data": {
      "text/html": [
       "<style  type=\"text/css\" >\n",
       "</style><table id=\"T_bc4d62de_a645_11eb_9518_fc7774b3c521\" ><thead>    <tr>        <th class=\"blank\" ></th>        <th class=\"blank level0\" ></th>        <th class=\"col_heading level0 col0\" >Purchase Count</th>        <th class=\"col_heading level0 col1\" >Item Price</th>        <th class=\"col_heading level0 col2\" >Total Purchase Revenue</th>    </tr>    <tr>        <th class=\"index_name level0\" >Item ID</th>        <th class=\"index_name level1\" >Item Name</th>        <th class=\"blank\" ></th>        <th class=\"blank\" ></th>        <th class=\"blank\" ></th>    </tr></thead><tbody>\n",
       "                <tr>\n",
       "                        <th id=\"T_bc4d62de_a645_11eb_9518_fc7774b3c521level0_row0\" class=\"row_heading level0 row0\" >92</th>\n",
       "                        <th id=\"T_bc4d62de_a645_11eb_9518_fc7774b3c521level1_row0\" class=\"row_heading level1 row0\" >Final Critic</th>\n",
       "                        <td id=\"T_bc4d62de_a645_11eb_9518_fc7774b3c521row0_col0\" class=\"data row0 col0\" >13</td>\n",
       "                        <td id=\"T_bc4d62de_a645_11eb_9518_fc7774b3c521row0_col1\" class=\"data row0 col1\" >$4.61</td>\n",
       "                        <td id=\"T_bc4d62de_a645_11eb_9518_fc7774b3c521row0_col2\" class=\"data row0 col2\" >$59.99</td>\n",
       "            </tr>\n",
       "            <tr>\n",
       "                        <th id=\"T_bc4d62de_a645_11eb_9518_fc7774b3c521level0_row1\" class=\"row_heading level0 row1\" >178</th>\n",
       "                        <th id=\"T_bc4d62de_a645_11eb_9518_fc7774b3c521level1_row1\" class=\"row_heading level1 row1\" >Oathbreaker, Last Hope of the Breaking Storm</th>\n",
       "                        <td id=\"T_bc4d62de_a645_11eb_9518_fc7774b3c521row1_col0\" class=\"data row1 col0\" >12</td>\n",
       "                        <td id=\"T_bc4d62de_a645_11eb_9518_fc7774b3c521row1_col1\" class=\"data row1 col1\" >$4.23</td>\n",
       "                        <td id=\"T_bc4d62de_a645_11eb_9518_fc7774b3c521row1_col2\" class=\"data row1 col2\" >$50.76</td>\n",
       "            </tr>\n",
       "            <tr>\n",
       "                        <th id=\"T_bc4d62de_a645_11eb_9518_fc7774b3c521level0_row2\" class=\"row_heading level0 row2\" >145</th>\n",
       "                        <th id=\"T_bc4d62de_a645_11eb_9518_fc7774b3c521level1_row2\" class=\"row_heading level1 row2\" >Fiery Glass Crusader</th>\n",
       "                        <td id=\"T_bc4d62de_a645_11eb_9518_fc7774b3c521row2_col0\" class=\"data row2 col0\" >9</td>\n",
       "                        <td id=\"T_bc4d62de_a645_11eb_9518_fc7774b3c521row2_col1\" class=\"data row2 col1\" >$4.58</td>\n",
       "                        <td id=\"T_bc4d62de_a645_11eb_9518_fc7774b3c521row2_col2\" class=\"data row2 col2\" >$41.22</td>\n",
       "            </tr>\n",
       "            <tr>\n",
       "                        <th id=\"T_bc4d62de_a645_11eb_9518_fc7774b3c521level0_row3\" class=\"row_heading level0 row3\" >132</th>\n",
       "                        <th id=\"T_bc4d62de_a645_11eb_9518_fc7774b3c521level1_row3\" class=\"row_heading level1 row3\" >Persuasion</th>\n",
       "                        <td id=\"T_bc4d62de_a645_11eb_9518_fc7774b3c521row3_col0\" class=\"data row3 col0\" >9</td>\n",
       "                        <td id=\"T_bc4d62de_a645_11eb_9518_fc7774b3c521row3_col1\" class=\"data row3 col1\" >$3.22</td>\n",
       "                        <td id=\"T_bc4d62de_a645_11eb_9518_fc7774b3c521row3_col2\" class=\"data row3 col2\" >$28.99</td>\n",
       "            </tr>\n",
       "            <tr>\n",
       "                        <th id=\"T_bc4d62de_a645_11eb_9518_fc7774b3c521level0_row4\" class=\"row_heading level0 row4\" >108</th>\n",
       "                        <th id=\"T_bc4d62de_a645_11eb_9518_fc7774b3c521level1_row4\" class=\"row_heading level1 row4\" >Extraction, Quickblade Of Trembling Hands</th>\n",
       "                        <td id=\"T_bc4d62de_a645_11eb_9518_fc7774b3c521row4_col0\" class=\"data row4 col0\" >9</td>\n",
       "                        <td id=\"T_bc4d62de_a645_11eb_9518_fc7774b3c521row4_col1\" class=\"data row4 col1\" >$3.53</td>\n",
       "                        <td id=\"T_bc4d62de_a645_11eb_9518_fc7774b3c521row4_col2\" class=\"data row4 col2\" >$31.77</td>\n",
       "            </tr>\n",
       "    </tbody></table>"
      ],
      "text/plain": [
       "<pandas.io.formats.style.Styler at 0x2449b7c1c18>"
      ]
     },
     "execution_count": 31,
     "metadata": {},
     "output_type": "execute_result"
    }
   ],
   "source": [
    "# get purchase data by item\n",
    "item_data = purchase_data.groupby(['Item ID', 'Item Name'])\n",
    "\n",
    "# get purchase count by item\n",
    "item_pcount = item_data['Purchase ID'].count()\n",
    "\n",
    "# get total rev by item\n",
    "item_rev = item_data['Price'].sum()\n",
    "\n",
    "# get item price\n",
    "item_price = (item_rev / item_pcount)\n",
    "\n",
    "# create dataframe with outputs\n",
    "top_items = pd.DataFrame({\n",
    "                            'Purchase Count':item_pcount,\n",
    "                            'Item Price':item_price,\n",
    "                            'Total Purchase Revenue':item_rev\n",
    "})\n",
    "\n",
    "# sort and format \n",
    "top_five_items = top_items.sort_values(['Purchase Count'], ascending=False).head().style.format({\n",
    "                            'Item Price':'${0:,.2f}',\n",
    "                            'Total Purchase Revenue':'${0:,.2f}'\n",
    "})\n",
    "\n",
    "top_five_items"
   ]
  },
  {
   "cell_type": "markdown",
   "metadata": {},
   "source": [
    "## Most Profitable Items"
   ]
  },
  {
   "cell_type": "markdown",
   "metadata": {},
   "source": [
    "* Sort the above table by total purchase value in descending order\n",
    "\n",
    "\n",
    "* Optional: give the displayed data cleaner formatting\n",
    "\n",
    "\n",
    "* Display a preview of the data frame\n",
    "\n"
   ]
  },
  {
   "cell_type": "code",
   "execution_count": 35,
   "metadata": {
    "scrolled": true
   },
   "outputs": [
    {
     "data": {
      "text/html": [
       "<style  type=\"text/css\" >\n",
       "</style><table id=\"T_3b9a7ae6_a646_11eb_a8aa_fc7774b3c521\" ><thead>    <tr>        <th class=\"blank\" ></th>        <th class=\"blank level0\" ></th>        <th class=\"col_heading level0 col0\" >Purchase Count</th>        <th class=\"col_heading level0 col1\" >Item Price</th>        <th class=\"col_heading level0 col2\" >Total Purchase Revenue</th>    </tr>    <tr>        <th class=\"index_name level0\" >Item ID</th>        <th class=\"index_name level1\" >Item Name</th>        <th class=\"blank\" ></th>        <th class=\"blank\" ></th>        <th class=\"blank\" ></th>    </tr></thead><tbody>\n",
       "                <tr>\n",
       "                        <th id=\"T_3b9a7ae6_a646_11eb_a8aa_fc7774b3c521level0_row0\" class=\"row_heading level0 row0\" >92</th>\n",
       "                        <th id=\"T_3b9a7ae6_a646_11eb_a8aa_fc7774b3c521level1_row0\" class=\"row_heading level1 row0\" >Final Critic</th>\n",
       "                        <td id=\"T_3b9a7ae6_a646_11eb_a8aa_fc7774b3c521row0_col0\" class=\"data row0 col0\" >13</td>\n",
       "                        <td id=\"T_3b9a7ae6_a646_11eb_a8aa_fc7774b3c521row0_col1\" class=\"data row0 col1\" >$4.61</td>\n",
       "                        <td id=\"T_3b9a7ae6_a646_11eb_a8aa_fc7774b3c521row0_col2\" class=\"data row0 col2\" >$59.99</td>\n",
       "            </tr>\n",
       "            <tr>\n",
       "                        <th id=\"T_3b9a7ae6_a646_11eb_a8aa_fc7774b3c521level0_row1\" class=\"row_heading level0 row1\" >178</th>\n",
       "                        <th id=\"T_3b9a7ae6_a646_11eb_a8aa_fc7774b3c521level1_row1\" class=\"row_heading level1 row1\" >Oathbreaker, Last Hope of the Breaking Storm</th>\n",
       "                        <td id=\"T_3b9a7ae6_a646_11eb_a8aa_fc7774b3c521row1_col0\" class=\"data row1 col0\" >12</td>\n",
       "                        <td id=\"T_3b9a7ae6_a646_11eb_a8aa_fc7774b3c521row1_col1\" class=\"data row1 col1\" >$4.23</td>\n",
       "                        <td id=\"T_3b9a7ae6_a646_11eb_a8aa_fc7774b3c521row1_col2\" class=\"data row1 col2\" >$50.76</td>\n",
       "            </tr>\n",
       "            <tr>\n",
       "                        <th id=\"T_3b9a7ae6_a646_11eb_a8aa_fc7774b3c521level0_row2\" class=\"row_heading level0 row2\" >82</th>\n",
       "                        <th id=\"T_3b9a7ae6_a646_11eb_a8aa_fc7774b3c521level1_row2\" class=\"row_heading level1 row2\" >Nirvana</th>\n",
       "                        <td id=\"T_3b9a7ae6_a646_11eb_a8aa_fc7774b3c521row2_col0\" class=\"data row2 col0\" >9</td>\n",
       "                        <td id=\"T_3b9a7ae6_a646_11eb_a8aa_fc7774b3c521row2_col1\" class=\"data row2 col1\" >$4.90</td>\n",
       "                        <td id=\"T_3b9a7ae6_a646_11eb_a8aa_fc7774b3c521row2_col2\" class=\"data row2 col2\" >$44.10</td>\n",
       "            </tr>\n",
       "            <tr>\n",
       "                        <th id=\"T_3b9a7ae6_a646_11eb_a8aa_fc7774b3c521level0_row3\" class=\"row_heading level0 row3\" >145</th>\n",
       "                        <th id=\"T_3b9a7ae6_a646_11eb_a8aa_fc7774b3c521level1_row3\" class=\"row_heading level1 row3\" >Fiery Glass Crusader</th>\n",
       "                        <td id=\"T_3b9a7ae6_a646_11eb_a8aa_fc7774b3c521row3_col0\" class=\"data row3 col0\" >9</td>\n",
       "                        <td id=\"T_3b9a7ae6_a646_11eb_a8aa_fc7774b3c521row3_col1\" class=\"data row3 col1\" >$4.58</td>\n",
       "                        <td id=\"T_3b9a7ae6_a646_11eb_a8aa_fc7774b3c521row3_col2\" class=\"data row3 col2\" >$41.22</td>\n",
       "            </tr>\n",
       "            <tr>\n",
       "                        <th id=\"T_3b9a7ae6_a646_11eb_a8aa_fc7774b3c521level0_row4\" class=\"row_heading level0 row4\" >103</th>\n",
       "                        <th id=\"T_3b9a7ae6_a646_11eb_a8aa_fc7774b3c521level1_row4\" class=\"row_heading level1 row4\" >Singed Scalpel</th>\n",
       "                        <td id=\"T_3b9a7ae6_a646_11eb_a8aa_fc7774b3c521row4_col0\" class=\"data row4 col0\" >8</td>\n",
       "                        <td id=\"T_3b9a7ae6_a646_11eb_a8aa_fc7774b3c521row4_col1\" class=\"data row4 col1\" >$4.35</td>\n",
       "                        <td id=\"T_3b9a7ae6_a646_11eb_a8aa_fc7774b3c521row4_col2\" class=\"data row4 col2\" >$34.80</td>\n",
       "            </tr>\n",
       "    </tbody></table>"
      ],
      "text/plain": [
       "<pandas.io.formats.style.Styler at 0x2449b69f518>"
      ]
     },
     "execution_count": 35,
     "metadata": {},
     "output_type": "execute_result"
    }
   ],
   "source": [
    "# sort top_items by revenue\n",
    "profitable_items = top_items.sort_values(['Total Purchase Revenue'], ascending=False)\n",
    "\n",
    "#format and get top 5\n",
    "\n",
    "top_profitable_items = profitable_items.head().style.format({\n",
    "                            'Item Price':'${0:,.2f}',\n",
    "                            'Total Purchase Revenue':'${0:,.2f}'\n",
    "})\n",
    "\n",
    "top_profitable_items"
   ]
  },
  {
   "cell_type": "code",
   "execution_count": null,
   "metadata": {},
   "outputs": [],
   "source": []
  }
 ],
 "metadata": {
  "anaconda-cloud": {},
  "kernel_info": {
   "name": "python3"
  },
  "kernelspec": {
   "display_name": "Python 3",
   "language": "python",
   "name": "python3"
  },
  "language_info": {
   "codemirror_mode": {
    "name": "ipython",
    "version": 3
   },
   "file_extension": ".py",
   "mimetype": "text/x-python",
   "name": "python",
   "nbconvert_exporter": "python",
   "pygments_lexer": "ipython3",
   "version": "3.6.10"
  },
  "latex_envs": {
   "LaTeX_envs_menu_present": true,
   "autoclose": false,
   "autocomplete": true,
   "bibliofile": "biblio.bib",
   "cite_by": "apalike",
   "current_citInitial": 1,
   "eqLabelWithNumbers": true,
   "eqNumInitial": 1,
   "hotkeys": {
    "equation": "Ctrl-E",
    "itemize": "Ctrl-I"
   },
   "labels_anchors": false,
   "latex_user_defs": false,
   "report_style_numbering": false,
   "user_envs_cfg": false
  },
  "nteract": {
   "version": "0.2.0"
  }
 },
 "nbformat": 4,
 "nbformat_minor": 2
}
